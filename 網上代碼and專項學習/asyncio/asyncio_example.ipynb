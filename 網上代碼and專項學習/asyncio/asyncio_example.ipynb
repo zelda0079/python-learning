{
 "cells": [
  {
   "cell_type": "markdown",
   "metadata": {},
   "source": [
    "SOURCE  \n",
    "https://zhuanlan.zhihu.com/p/242799683"
   ]
  },
  {
   "cell_type": "code",
   "execution_count": 2,
   "metadata": {},
   "outputs": [
    {
     "name": "stdout",
     "output_type": "stream",
     "text": [
      "運行task_A\n",
      "運行task_B\n",
      "運行task_C\n",
      "task_A結束!!耗時0.27秒\n",
      "task_C結束!!耗時0.74秒\n",
      "task_B結束!!耗時0.79秒\n"
     ]
    }
   ],
   "source": [
    "import asyncio\n",
    "import time\n",
    "import random\n",
    "import nest_asyncio  #用於JUPYTER NOTEBOOK\n",
    "\n",
    "nest_asyncio.apply()  \n",
    "start = time.time()\n",
    "\n",
    "def take_time():\n",
    "    return \"%1.2f秒\" % (time.time() - start)\n",
    "\n",
    "async def task_A():\n",
    "    print(\"運行task_A\")\n",
    "    await asyncio.sleep(random.uniform(1.0, 8.0) / 10)\n",
    "    print(f\"task_A結束!!耗時{take_time()}\")\n",
    "\n",
    "async def task_B():\n",
    "    print(\"運行task_B\")\n",
    "    await asyncio.sleep(random.uniform(1.0, 8.0) / 10)\n",
    "    print(f\"task_B結束!!耗時{take_time()}\")\n",
    "\n",
    "async def task_C():\n",
    "    print(\"運行task_C\")\n",
    "    await asyncio.sleep(random.uniform(1.0, 8.0) / 10)\n",
    "    print(f\"task_C結束!!耗時{take_time()}\")\n",
    "\n",
    "async def task_exect():\n",
    "    tasks = [task_A(), task_B(), task_C()]\n",
    "    await asyncio.gather(*tasks)\n",
    "\n",
    "#asyncio.run(task_exect())\n",
    "if loop.is_running():\n",
    "    # 嘗試設置新的循環如果當前循環正在運行\n",
    "    asyncio.set_event_loop(asyncio.new_event_loop())\n",
    "    loop = asyncio.get_event_loop()\n",
    "\n",
    "loop.run_until_complete(task_exect())\n",
    "    "
   ]
  },
  {
   "cell_type": "code",
   "execution_count": 3,
   "metadata": {},
   "outputs": [
    {
     "name": "stdout",
     "output_type": "stream",
     "text": [
      "運行task_A\n",
      "task_A結束!!耗時0.53秒\n",
      "運行task_B\n",
      "task_B結束!!耗時1.19秒\n",
      "運行task_C\n",
      "task_C結束!!耗時1.90秒\n"
     ]
    }
   ],
   "source": [
    "\n",
    "import time\n",
    "import random\n",
    "\n",
    "\n",
    "nest_asyncio.apply()  \n",
    "start = time.time()\n",
    "\n",
    "def take_time():\n",
    "    return \"%1.2f秒\" % (time.time() - start)\n",
    "\n",
    "def task_A():\n",
    "    print(\"運行task_A\")\n",
    "    time.sleep(random.uniform(1.0, 8.0) / 10)\n",
    "    print(f\"task_A結束!!耗時{take_time()}\")\n",
    "\n",
    "def task_B():\n",
    "    print(\"運行task_B\")\n",
    "    time.sleep(random.uniform(1.0, 8.0) / 10)\n",
    "    print(f\"task_B結束!!耗時{take_time()}\")\n",
    "\n",
    "def task_C():\n",
    "    print(\"運行task_C\")\n",
    "    time.sleep(random.uniform(1.0, 8.0) / 10)\n",
    "    print(f\"task_C結束!!耗時{take_time()}\")\n",
    "\n",
    "def task_exect():\n",
    "    task_A()\n",
    "    task_B()\n",
    "    task_C()\n",
    "\n",
    "task_exect()"
   ]
  },
  {
   "cell_type": "code",
   "execution_count": 5,
   "metadata": {},
   "outputs": [
    {
     "name": "stdout",
     "output_type": "stream",
     "text": [
      "foo1耗時0.051971435546875\n",
      "foo3耗時0.07095623016357422\n",
      "foo2耗時0.07095623016357422\n",
      "foo4耗時0.09294414520263672\n"
     ]
    }
   ],
   "source": [
    "import asyncio,random,time\n",
    "\n",
    "async def foo1():\n",
    "    return await asyncio.sleep(random.randint(1,10)/100.0),\\\n",
    "    print(f\"foo1耗時{time.time()-start}\")\n",
    "\n",
    "async def foo2():\n",
    "    return await asyncio.sleep(random.randint(1,10)/100.0),\\\n",
    "    print(f\"foo2耗時{time.time()-start}\")\n",
    "\n",
    "async def foo3():\n",
    "    return await asyncio.sleep(random.randint(1,10)/100.0),\\\n",
    "    print(f\"foo3耗時{time.time()-start}\")\n",
    "\n",
    "async def foo4():\n",
    "    return await asyncio.sleep(random.randint(1,10)/100.0),\\\n",
    "    print(f\"foo4耗時{time.time()-start}\")\n",
    "\n",
    "async def main():\n",
    "    await asyncio.gather(foo1(),foo2(),foo3(),foo4())\n",
    "\n",
    "\n",
    "if __name__ == \"__main__\":\n",
    "    start=time.time()\n",
    "    asyncio.run(main())"
   ]
  },
  {
   "cell_type": "code",
   "execution_count": 6,
   "metadata": {},
   "outputs": [
    {
     "name": "stdout",
     "output_type": "stream",
     "text": [
      "foo1耗時0.010991811752319336\n",
      "foo2耗時0.06134390830993652\n",
      "foo3耗時0.16179370880126953\n",
      "foo4耗時0.2021653652191162\n"
     ]
    }
   ],
   "source": [
    "import asyncio,random,time\n",
    "\n",
    "def foo1():\n",
    "    time.sleep(random.randint(1,10)/100.0)\n",
    "    print(f\"foo1耗時{time.time()-start}\")\n",
    "\n",
    "def foo2():\n",
    "    time.sleep(random.randint(1,10)/100.0)\n",
    "    print(f\"foo2耗時{time.time()-start}\")\n",
    "\n",
    "def foo3():\n",
    "    time.sleep(random.randint(1,10)/100.0)\n",
    "    print(f\"foo3耗時{time.time()-start}\")\n",
    "\n",
    "def foo4():\n",
    "    time.sleep(random.randint(1,10)/100.0)\n",
    "    print(f\"foo4耗時{time.time()-start}\")\n",
    "\n",
    "def main():\n",
    "    \n",
    "    foo1()\n",
    "    foo2()\n",
    "    foo3()\n",
    "    foo4()\n",
    "\n",
    "\n",
    "if __name__ == \"__main__\":\n",
    "    start=time.time()\n",
    "    main()"
   ]
  }
 ],
 "metadata": {
  "kernelspec": {
   "display_name": "Python 3",
   "language": "python",
   "name": "python3"
  },
  "language_info": {
   "codemirror_mode": {
    "name": "ipython",
    "version": 3
   },
   "file_extension": ".py",
   "mimetype": "text/x-python",
   "name": "python",
   "nbconvert_exporter": "python",
   "pygments_lexer": "ipython3",
   "version": "3.11.8"
  }
 },
 "nbformat": 4,
 "nbformat_minor": 2
}
