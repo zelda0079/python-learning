{
 "cells": [
  {
   "cell_type": "code",
   "execution_count": 5,
   "metadata": {},
   "outputs": [
    {
     "data": {
      "text/plain": [
       "'d:\\\\Tools\\\\MicrosoftVSCode\\\\我的第一个echarts图.html'"
      ]
     },
     "execution_count": 5,
     "metadata": {},
     "output_type": "execute_result"
    }
   ],
   "source": [
    "from pyecharts.charts import Bar\n",
    "from pyecharts import options as opts\n",
    "from pyecharts.options.global_options import AxisOpts\n",
    "\n",
    "x = ['餐饮','娱乐','交通','保养','衣服']\n",
    "y1= [1000,500,100,5000,5000]\n",
    "y2= [2000,1000,100,20,30]\n",
    "\n",
    "\n",
    "bar = Bar()\n",
    "bar.add_xaxis(xaxis_data = x)\n",
    "#第一个参数是图例的名称\n",
    "bar.add_yaxis(series_name = 'zhang某人',y_axis = y1)\n",
    "bar.add_yaxis(series_name = 'fan某人',y_axis = y2)\n",
    "\n",
    "#添加options\n",
    "bar.set_global_opts(title_opts=opts.TitleOpts(title = 'zhang某人和fan某人一月开支'))\n",
    "\n",
    "#生成HTML文件\n",
    "bar.render('我的第一个echarts图.html')\n"
   ]
  },
  {
   "cell_type": "code",
   "execution_count": null,
   "metadata": {},
   "outputs": [],
   "source": [
    "#折线图是Line\n",
    "from pyecharts.charts import Line\n",
    "#引入options，为图表添加参数\n",
    "from pyecharts import options as opts\n",
    "\n",
    "#折线图的数据类型跟柱状图一模一样\n",
    "x = ['餐饮','娱乐','交通','保养','衣服']\n",
    "y= [1000,500,2000,1000,1000]\n",
    "\n",
    "#创建对象,可以加一些参数，下面这个参数的意思是图的大小，宽800个像素，高600个像素\n",
    "line = Line(init_opts = opts.InitOpts(width = '800px',height = '600px'))\n",
    "#添加数据,注意添加y轴数据的时候，必须设置series_name参数，表示图例的名称\n",
    "line.add_xaxis(xaxis_data = x)\n",
    "line.add_yaxis(series_name = 'zhang某人',y_axis = y)\n",
    "#添加参数，title_opts设置图的标题\n",
    "line.set_global_opts(title_opts = opts.TitleOpts(title = 'zhang某人的幸福生活'))\n",
    "\n",
    "line.render_notebook()\n"
   ]
  }
 ],
 "metadata": {
  "kernelspec": {
   "display_name": "Python 3",
   "language": "python",
   "name": "python3"
  },
  "language_info": {
   "codemirror_mode": {
    "name": "ipython",
    "version": 3
   },
   "file_extension": ".py",
   "mimetype": "text/x-python",
   "name": "python",
   "nbconvert_exporter": "python",
   "pygments_lexer": "ipython3",
   "version": "3.11.8"
  }
 },
 "nbformat": 4,
 "nbformat_minor": 2
}
