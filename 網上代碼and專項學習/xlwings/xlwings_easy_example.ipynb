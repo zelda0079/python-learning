{
 "cells": [
  {
   "cell_type": "code",
   "execution_count": 34,
   "metadata": {},
   "outputs": [
    {
     "name": "stdout",
     "output_type": "stream",
     "text": [
      "(5, 9)\n"
     ]
    }
   ],
   "source": [
    "import xlwings as xw\n",
    "app = xw.App(visible=True, add_book=False)\n",
    "wb = app.books.open('活頁簿1.xlsm')\n",
    "wb2=xw.Book('活頁簿1.xlsx')\n",
    "\n",
    "ws = wb.sheets['工作表1']\n",
    "shape = ws.used_range.shape\n",
    "print(shape) "
   ]
  },
  {
   "cell_type": "code",
   "execution_count": null,
   "metadata": {},
   "outputs": [],
   "source": [
    "rng = ws.range('A1').expand()\n",
    "nrow2 = rng.last_cell.row\n",
    "ncol2 = rng.last_cell.column\n",
    "print(nrow2)  \n",
    "print(ncol2)  "
   ]
  },
  {
   "cell_type": "code",
   "execution_count": null,
   "metadata": {},
   "outputs": [],
   "source": [
    "nrow1 = ws.api.Range('A1').CurrentRegion.Rows.Count\n",
    "ncol1 = ws.api.Range('A1').CurrentRegion.Columns.Count\n",
    "print(nrow1) \n",
    "print(ncol1) \n"
   ]
  },
  {
   "cell_type": "code",
   "execution_count": null,
   "metadata": {},
   "outputs": [],
   "source": [
    "nrow1 = ws.api.UsedRange.Rows.Count\n",
    "ncol1 = ws.api.UsedRange.Columns.Count\n",
    "print(nrow1) \n",
    "print(ncol1) "
   ]
  },
  {
   "cell_type": "code",
   "execution_count": 37,
   "metadata": {},
   "outputs": [],
   "source": [
    "wb.close\n",
    "wb.app.kill()"
   ]
  },
  {
   "cell_type": "code",
   "execution_count": null,
   "metadata": {},
   "outputs": [],
   "source": []
  },
  {
   "cell_type": "code",
   "execution_count": null,
   "metadata": {},
   "outputs": [],
   "source": []
  }
 ],
 "metadata": {
  "kernelspec": {
   "display_name": "Python 3 (ipykernel)",
   "language": "python",
   "name": "python3"
  },
  "language_info": {
   "codemirror_mode": {
    "name": "ipython",
    "version": 3
   },
   "file_extension": ".py",
   "mimetype": "text/x-python",
   "name": "python",
   "nbconvert_exporter": "python",
   "pygments_lexer": "ipython3",
   "version": "3.11.8"
  }
 },
 "nbformat": 4,
 "nbformat_minor": 4
}
